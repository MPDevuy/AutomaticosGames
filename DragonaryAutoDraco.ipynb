{
 "cells": [
  {
   "cell_type": "code",
   "execution_count": 1,
   "metadata": {},
   "outputs": [],
   "source": [
    "import pyautogui  #realiza clicks y mueve el mouse entre otras opciones\n",
    "import subprocess\n",
    "import unittest\n",
    "from selenium.webdriver.common.keys import Keys\n",
    "from selenium import webdriver\n",
    "import time\n",
    "#libreria pynput acciones del teclado\n",
    "from pynput.keyboard import Key, Controller #realiza acciones del teclado\n",
    "\n",
    "#variables para controlar el keyboar \n",
    "keyboard = Controller()\n",
    "\n",
    "sleep = 40\n",
    "t = 6  \n",
    "\n",
    "\n",
    "\n",
    "def Dragonary():\n",
    "    time.sleep(6)\n",
    "    pyautogui.click(649, 560) #Find\n",
    "    time.sleep(5)\n",
    "    pyautogui.click(845, 456) #Fight\n",
    "    time.sleep(5)\n",
    "    pyautogui.click(621, 605) #collect\n",
    "    \n",
    "    \n",
    "def Dragonary2():\n",
    "    time.sleep(7)\n",
    "    pyautogui.click(649, 560) #Find\n",
    "    time.sleep(6)\n",
    "    pyautogui.click(845, 456) #Fight\n",
    "    time.sleep(5)\n",
    "    pyautogui.click(621, 605) #collect\n",
    "    \n",
    "def Dragonary3():\n",
    "    time.sleep(8)\n",
    "    pyautogui.click(649, 560) #Find\n",
    "    time.sleep(6)\n",
    "    pyautogui.click(845, 456) #Fight\n",
    "    time.sleep(6)\n",
    "    pyautogui.click(621, 605) #collect\n",
    "    \n",
    "#time.sleep(180) # cuando se queda sin cpu o inico despues de minado\n",
    "\n",
    "for x in range  (0, 200): \n",
    "#    time.sleep(14)\n",
    "    Dragonary()\n",
    "    Dragonary2()\n",
    "    Dragonary3()\n",
    "#    if x == t:\n",
    "#        time.sleep(1500)\n",
    "#        t = t + 4\n",
    "\n",
    "\n"
   ]
  },
  {
   "cell_type": "code",
   "execution_count": null,
   "metadata": {},
   "outputs": [],
   "source": []
  },
  {
   "cell_type": "code",
   "execution_count": null,
   "metadata": {},
   "outputs": [],
   "source": []
  },
  {
   "cell_type": "code",
   "execution_count": null,
   "metadata": {},
   "outputs": [],
   "source": []
  },
  {
   "cell_type": "code",
   "execution_count": null,
   "metadata": {},
   "outputs": [],
   "source": []
  }
 ],
 "metadata": {
  "kernelspec": {
   "display_name": "Python 3",
   "language": "python",
   "name": "python3"
  },
  "language_info": {
   "codemirror_mode": {
    "name": "ipython",
    "version": 3
   },
   "file_extension": ".py",
   "mimetype": "text/x-python",
   "name": "python",
   "nbconvert_exporter": "python",
   "pygments_lexer": "ipython3",
   "version": "3.8.3"
  }
 },
 "nbformat": 4,
 "nbformat_minor": 4
}
